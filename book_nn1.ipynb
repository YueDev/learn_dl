{
 "cells": [
  {
   "cell_type": "markdown",
   "id": "d8561c10a7e3d3c7",
   "metadata": {},
   "source": [
    "# numpy写的单层的神经网络"
   ]
  },
  {
   "cell_type": "code",
   "execution_count": 1,
   "id": "1b4ff24b",
   "metadata": {
    "ExecuteTime": {
     "end_time": "2023-09-23T02:13:05.437183Z",
     "start_time": "2023-09-23T02:13:05.267357Z"
    }
   },
   "outputs": [],
   "source": [
    "import numpy as np"
   ]
  },
  {
   "cell_type": "markdown",
   "id": "47992e5e9e16f3b",
   "metadata": {},
   "source": [
    "两个激活函数sigmoid和relu"
   ]
  },
  {
   "cell_type": "code",
   "execution_count": 2,
   "id": "951c27fdb32320f8",
   "metadata": {
    "ExecuteTime": {
     "end_time": "2023-09-23T02:13:05.437668Z",
     "start_time": "2023-09-23T02:13:05.416383Z"
    }
   },
   "outputs": [],
   "source": [
    "def sigmoid(x):\n",
    "    return 1 / (1 + np.exp(-x))\n",
    "\n",
    "def relu(x):\n",
    "    return np.maximum(0, x)"
   ]
  },
  {
   "cell_type": "markdown",
   "id": "5bf9b07f25b7d1ed",
   "metadata": {},
   "source": [
    "简单的用numpy模拟下单层的神经网络（感知机）  \n",
    "4个输入x 3个输出y w是权重 b是偏差"
   ]
  },
  {
   "cell_type": "code",
   "execution_count": 4,
   "id": "88b8bc7fc70132d2",
   "metadata": {
    "ExecuteTime": {
     "end_time": "2023-09-23T02:13:05.437989Z",
     "start_time": "2023-09-23T02:13:05.416536Z"
    }
   },
   "outputs": [
    {
     "data": {
      "text/plain": [
       "(array([[-0.5 ,  0.82, -0.55,  0.55]]),\n",
       " array([[0.45384565, 0.52668232, 0.59252479]]))"
      ]
     },
     "execution_count": 4,
     "metadata": {},
     "output_type": "execute_result"
    }
   ],
   "source": [
    "# 这里x y我是按照列向量写的 y=w.x + b 书上是按照行向量写的 y = x.w + b\n",
    "# w = np.random.rand(12).reshape(3, 4)\n",
    "# x = np.random.rand(4).reshape(4, 1)\n",
    "# b = np.random.rand(3).reshape(3, 1)\n",
    "# y = relu((w.dot(x) + b))\n",
    "\n",
    "# 行向量版本\n",
    "x = np.random.randint(-100, 100, size=(1, 4)) / 100\n",
    "w = np.random.rand(12).reshape(4, 3)\n",
    "b =  - np.random.rand(3).reshape(1, 3) * 0.4\n",
    "y = sigmoid(x.dot(w) + b)\n",
    "x, y"
   ]
  }
 ],
 "metadata": {
  "celltoolbar": "无",
  "kernelspec": {
   "display_name": "Python 3 (ipykernel)",
   "language": "python",
   "name": "python3"
  },
  "language_info": {
   "codemirror_mode": {
    "name": "ipython",
    "version": 3
   },
   "file_extension": ".py",
   "mimetype": "text/x-python",
   "name": "python",
   "nbconvert_exporter": "python",
   "pygments_lexer": "ipython3",
   "version": "3.11.5"
  }
 },
 "nbformat": 4,
 "nbformat_minor": 5
}
