{
 "cells": [
  {
   "cell_type": "markdown",
   "id": "95e37c3e",
   "metadata": {},
   "source": [
    "## numpy实现的3层的神经网络"
   ]
  },
  {
   "cell_type": "code",
   "execution_count": 1,
   "id": "1d1431ec",
   "metadata": {},
   "outputs": [],
   "source": [
    "import numpy as np"
   ]
  },
  {
   "cell_type": "markdown",
   "id": "d3e9d7dd",
   "metadata": {},
   "source": [
    "初始化网络，利用map存储各层的参数\n",
    "第一层5个输出，第二层4个输出，第三层3个输出"
   ]
  },
  {
   "cell_type": "code",
   "execution_count": 51,
   "id": "fbf81f21",
   "metadata": {},
   "outputs": [],
   "source": [
    "# size_of_x：x的个数\n",
    "def init_network(size_of_x):\n",
    "    nn = {}\n",
    "    nn['w1'] = np.random.rand(size_of_x, 5)\n",
    "    nn['b1'] = np.random.rand(5)\n",
    "    nn['w2'] = np.random.rand(5, 4)\n",
    "    nn['b2'] = np.random.rand(4)\n",
    "    nn['w3'] = np.random.rand(4, 3)\n",
    "    nn['b3'] = np.random.rand(3)\n",
    "    return nn\n",
    "    \n",
    "# 激活函数\n",
    "def sigmoid(x):\n",
    "    return 1 / (1 + np.exp(-x))"
   ]
  },
  {
   "cell_type": "markdown",
   "id": "9060352f",
   "metadata": {},
   "source": [
    "神经网络向前运行一次"
   ]
  },
  {
   "cell_type": "code",
   "execution_count": 60,
   "id": "480bd96f",
   "metadata": {},
   "outputs": [],
   "source": [
    "def forward(nn, x):\n",
    "    w1, w2, w3 = nn['w1'], nn['w2'], nn['w3']\n",
    "    b1, b2, b3 = nn['b1'], nn['b2'], nn['b3']\n",
    "    # 第一层    \n",
    "    a1 = x.dot(w1) + b1\n",
    "    y1 = sigmoid(a1)\n",
    "    # 第二层\n",
    "    a2 = y1.dot(w2) + b2\n",
    "    y2 = sigmoid(a2)\n",
    "    # 第三层 直接出最后结果了，可能会有其他函数处理\n",
    "    a3 = y2.dot(w3) + b3\n",
    "    y3 = a3\n",
    "    \n",
    "    return y3"
   ]
  },
  {
   "cell_type": "code",
   "execution_count": 64,
   "id": "be477e46",
   "metadata": {},
   "outputs": [
    {
     "data": {
      "text/plain": [
       "array([3.38056611, 1.78137225, 1.97016744])"
      ]
     },
     "execution_count": 64,
     "metadata": {},
     "output_type": "execute_result"
    }
   ],
   "source": [
    "x = np.random.rand(1000)\n",
    "nn = init_network(x.size)\n",
    "y = forward(nn, x)\n",
    "y"
   ]
  }
 ],
 "metadata": {
  "kernelspec": {
   "display_name": "Python 3 (ipykernel)",
   "language": "python",
   "name": "python3"
  },
  "language_info": {
   "codemirror_mode": {
    "name": "ipython",
    "version": 3
   },
   "file_extension": ".py",
   "mimetype": "text/x-python",
   "name": "python",
   "nbconvert_exporter": "python",
   "pygments_lexer": "ipython3",
   "version": "3.11.5"
  }
 },
 "nbformat": 4,
 "nbformat_minor": 5
}
