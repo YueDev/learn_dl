{
 "cells": [
  {
   "cell_type": "markdown",
   "source": [
    "## 用numpy写一个神经网络实现MINST"
   ],
   "metadata": {
    "collapsed": false
   },
   "id": "6cfa596689b5ecd1"
  },
  {
   "cell_type": "code",
   "execution_count": null,
   "outputs": [],
   "source": [
    "import numpy as np\n",
    "import matplotlib.pyplot as plt\n",
    "from torchvision import datasets\n",
    "from torchvision.transforms import ToTensor"
   ],
   "metadata": {
    "collapsed": false
   },
   "id": "51512cf286b9b2b4"
  },
  {
   "cell_type": "markdown",
   "source": [
    "利用pytorch下载的数据集，稍后会转换成ndarray给numpy使用"
   ],
   "metadata": {
    "collapsed": false
   },
   "id": "f8e56298674ebf21"
  },
  {
   "cell_type": "code",
   "execution_count": null,
   "outputs": [],
   "source": [
    "# 指定函数的返回类型，方便IDE进行提示\n",
    "def get_data() -> tuple[np.ndarray, np.ndarray]:\n",
    "    training_data = datasets.MNIST(\n",
    "        root=\"data\",\n",
    "        train=True,\n",
    "        download=True,\n",
    "        transform=ToTensor()\n",
    "    )\n",
    "    test_data = datasets.FashionMNIST(\n",
    "        root=\"data\",\n",
    "        train=False,\n",
    "        download=True,\n",
    "        transform=ToTensor()\n",
    "    )\n",
    "    tr = training_data.data / 255\n",
    "    te = training_data.targets\n",
    "    return tr.numpy(), te.numpy()"
   ],
   "metadata": {
    "collapsed": false
   },
   "id": "d8351ebe2c9a3c65"
  },
  {
   "cell_type": "markdown",
   "source": [
    "初始化网络，输入是应该是28*28=784 \n",
    "第一层输出50， 第二层输出100\n",
    "最后一层即第三层输出10个数，代表结果，输出函数可以用softmax"
   ],
   "metadata": {
    "collapsed": false
   },
   "id": "97a8438fae048840"
  },
  {
   "cell_type": "code",
   "execution_count": null,
   "outputs": [],
   "source": [
    "def init_network(size_x):\n",
    "    nn = {\n",
    "        'w1': np.random.randn(size_x, 50),\n",
    "        #这里用rand(50)也行，加法的广播机制\n",
    "        'b1': np.random.randn(1, 50), \n",
    "\n",
    "        'w2': np.random.randn(50, 100),\n",
    "        'b2': np.random.randn(1, 100),\n",
    "\n",
    "        'w3': np.random.randn(100, 10),\n",
    "        'b3': np.random.randn(1, 10),\n",
    "    }\n",
    "    return nn\n"
   ],
   "metadata": {
    "collapsed": false
   },
   "id": "a5e3c7f1c73a5e35"
  },
  {
   "cell_type": "markdown",
   "source": [
    "激活函数，输出函数"
   ],
   "metadata": {
    "collapsed": false
   },
   "id": "9e9f014c6e0e15c4"
  },
  {
   "cell_type": "code",
   "execution_count": null,
   "outputs": [],
   "source": [
    "def sigmoid(x):\n",
    "    return 1 / (1 + np.exp(-x))\n",
    "\n",
    "def softmax(x):\n",
    "    c = np.max(x)\n",
    "    exp_a = np.exp(x - c) # 减去c是为了防止溢出\n",
    "    sum_exp_a = np.sum(exp_a)\n",
    "    y = exp_a / sum_exp_a\n",
    "    return y"
   ],
   "metadata": {
    "collapsed": false
   },
   "id": "34a604c7152d8080"
  },
  {
   "cell_type": "markdown",
   "source": [
    "正向运行网络，推理"
   ],
   "metadata": {
    "collapsed": false
   },
   "id": "978e18c6063ab0a8"
  },
  {
   "cell_type": "code",
   "execution_count": null,
   "outputs": [],
   "source": [
    "def forward(nn, x):\n",
    "    w1, w2, w3 = nn['w1'], nn['w2'], nn['w3'] \n",
    "    b1, b2, b3 = nn['b1'], nn['b2'], nn['b3']\n",
    "    \n",
    "    a1 = x.dot(w1) + b1\n",
    "    y1 = sigmoid(a1)\n",
    "    \n",
    "    a2 = y1.dot(w2) + b2\n",
    "    y2 = sigmoid(a2)\n",
    "    \n",
    "    a3 = y2.dot(w3) + b3\n",
    "    y3 = softmax(a3)\n",
    "    \n",
    "    return y3\n"
   ],
   "metadata": {
    "collapsed": false
   },
   "id": "2f1ce764a534eeff"
  },
  {
   "cell_type": "markdown",
   "source": [
    "运行一次网络"
   ],
   "metadata": {
    "collapsed": false
   },
   "id": "7b9425d3883b427c"
  },
  {
   "cell_type": "code",
   "execution_count": null,
   "outputs": [],
   "source": [
    "data, labels = get_data()\n",
    "data = data.reshape(60000, 28 * 28)\n",
    "i = np.random.randint(60000)\n",
    "x = data[i]\n",
    "t_index = labels[i]\n",
    "nn = init_network(x.size)\n",
    "y = forward(nn, x)\n",
    "y"
   ],
   "metadata": {
    "collapsed": false
   },
   "id": "38fe5761e164d3df"
  },
  {
   "cell_type": "markdown",
   "source": [
    "接下来，定义两种损失函数"
   ],
   "metadata": {
    "collapsed": false
   },
   "id": "8b579bd8d3b7d548"
  },
  {
   "cell_type": "code",
   "execution_count": null,
   "outputs": [],
   "source": [
    "# 均方误差 输出与目标的差的平方和，除以2\n",
    "def mean_square_error(y, t):\n",
    "    return 0.5 * np.sum((y - t) ** 2)\n",
    "\n",
    "# 交叉熵误差: 目标*loge(y)的和的负数\n",
    "def cross_entropy_error(y, t):\n",
    "    # 由于loge(0)是负无穷大-inf，计算机无法继续之后的运算\n",
    "    # 所以给输入增加一个微小的数，并且不影响结果\n",
    "    delta = 1e-7\n",
    "    return -np.sum(t * np.log(y + delta))\n"
   ],
   "metadata": {
    "collapsed": false
   },
   "id": "958519e6028a7458"
  },
  {
   "cell_type": "markdown",
   "source": [
    "看一下两种损失函数"
   ],
   "metadata": {
    "collapsed": false
   },
   "id": "56f947b6d30c2605"
  },
  {
   "cell_type": "code",
   "execution_count": null,
   "outputs": [],
   "source": [
    "t = np.zeros(10)\n",
    "t[int(t_index)] = 1\n",
    "\n",
    "e1 = mean_square_error(y, t)\n",
    "e2 = cross_entropy_error(y, t)\n",
    "\n",
    "# 设置np的打印选项：精度最大为小数点后2位，不用科学计数法\n",
    "np.set_printoptions(precision=2, suppress=True)\n",
    "\n",
    "print('t =', t)\n",
    "print('y =', y)\n",
    "print(f'e1 = {e1:5f}')\n",
    "print(f'e2 = {e2:5f}')\n"
   ],
   "metadata": {
    "collapsed": false
   },
   "id": "5916cf2a6cd3d1cb"
  }
 ],
 "metadata": {
  "kernelspec": {
   "display_name": "Python 3 (ipykernel)",
   "language": "python",
   "name": "python3"
  },
  "language_info": {
   "codemirror_mode": {
    "name": "ipython",
    "version": 3
   },
   "file_extension": ".py",
   "mimetype": "text/x-python",
   "name": "python",
   "nbconvert_exporter": "python",
   "pygments_lexer": "ipython3",
   "version": "3.11.5"
  }
 },
 "nbformat": 4,
 "nbformat_minor": 5
}
