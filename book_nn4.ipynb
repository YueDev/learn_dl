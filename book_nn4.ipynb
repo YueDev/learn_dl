{
 "cells": [
  {
   "cell_type": "markdown",
   "id": "5c507482",
   "metadata": {},
   "source": [
    "## numpy实现一个完整神经网络"
   ]
  },
  {
   "cell_type": "markdown",
   "id": "c758e596",
   "metadata": {},
   "source": [
    "基本上参照d2l_08.ipynb，更彻底的用numpy来实现一下"
   ]
  },
  {
   "cell_type": "code",
   "execution_count": 897,
   "id": "6b891628",
   "metadata": {},
   "outputs": [],
   "source": [
    "import numpy as np"
   ]
  },
  {
   "cell_type": "code",
   "execution_count": 898,
   "id": "73b6ba7f",
   "metadata": {},
   "outputs": [],
   "source": [
    "# 先把工具函数定义出来\n",
    "\n",
    "# 输出函数\n",
    "def softmax(x):\n",
    "    c = np.max(x)\n",
    "    exp_a = np.exp(x - c) # 减去c是为了防止溢出\n",
    "    sum_exp_a = np.sum(exp_a)\n",
    "    y = exp_a / sum_exp_a\n",
    "    return y\n",
    "\n",
    "# 激活函数\n",
    "def sigmoid(x):\n",
    "    return 1 / (1 + np.exp(-x))\n",
    "\n",
    "# 损失函数\n",
    "def cross_entropy_error(y, t):\n",
    "    # 由于loge(0)是负无穷大-inf，计算机无法继续之后的运算\n",
    "    # 所以给输入增加一个微小的数，并且不影响结果\n",
    "    delta = 1e-7\n",
    "    batch_size = y.shape[0]\n",
    "    return -np.sum(t * np.log(y + delta)) / batch_size\n"
   ]
  },
  {
   "cell_type": "code",
   "execution_count": 929,
   "id": "aaacfd99",
   "metadata": {},
   "outputs": [
    {
     "name": "stdout",
     "output_type": "stream",
     "text": [
      "0出现了7731次\n",
      "1出现了1524次\n",
      "2出现了745次\n"
     ]
    }
   ],
   "source": [
    "# 输入是X(1,5), W1是(5, 8), W2是（8， 3） 然后softmax输出 一个简单版的MINIST\n",
    "# b偷懒用一个数了\n",
    "\n",
    "true_w1 = np.random.normal(0.0, 8.0, (5, 8))\n",
    "true_b1 = 2.15\n",
    "true_w2 = np.random.normal(0.0, 5.0, (8, 3))\n",
    "true_b2 = -1.32\n",
    "\n",
    "\n",
    "# 准备模拟数据 重复生成数据中，找到分布比较均的\n",
    "def synthetic_data(num):\n",
    "    \n",
    "    X = np.random.normal(0.0, 3.0, (num, 5))\n",
    "    y1 = X.dot(true_w1) + true_b1\n",
    "    y1 = sigmoid(y1)\n",
    "    y2 = y1.dot(true_w2) + true_b2\n",
    "    # 加上个随机扰动\n",
    "    y2 += np.random.random(y2.shape)\n",
    "    y2 = softmax(y2)\n",
    "    \n",
    "    # 把概率最高的设置为1\n",
    "    y = np.zeros((num, 3))\n",
    "    row_indices = y2.argmax(axis = 1)\n",
    "    column_indices = np.arange(num)\n",
    "    y[column_indices, row_indices] = 1\n",
    "    \n",
    "    #统计下y\n",
    "    elements, counts = np.unique(row_indices, return_counts=True)\n",
    "    for e, c in zip(elements, counts):\n",
    "        print(f'{e}出现了{c}次')    \n",
    "    return X, y\n",
    "\n",
    "# 设置np的打印选项：精度最大为小数点后2位，不用科学计数法\n",
    "np.set_printoptions(precision=4, suppress=True)\n",
    "\n",
    "features, labels = synthetic_data(10000)\n"
   ]
  },
  {
   "cell_type": "code",
   "execution_count": 930,
   "id": "6db16f08",
   "metadata": {},
   "outputs": [],
   "source": [
    "# 批量样本生成器\n",
    "def data_iter(batch_size, features, labels):\n",
    "    #随机索引\n",
    "    num_examples = features.shape[0]\n",
    "    indices = np.arange(num_examples)\n",
    "    indices = np.random.permutation(indices)\n",
    "    for i in range(0, num_examples, batch_size):\n",
    "        start = i\n",
    "        end = min(i + batch_size, num_examples)\n",
    "        select_indices = indices[start:end]\n",
    "        yield features[select_indices], labels[select_indices]"
   ]
  },
  {
   "cell_type": "code",
   "execution_count": 932,
   "id": "2f45d597",
   "metadata": {},
   "outputs": [],
   "source": [
    "# 网络\n",
    "def net(X, paramas):\n",
    "    w1 = paramas[w1]\n",
    "    b1 = paramas[b1]\n",
    "    w2 = paramas[w2]\n",
    "    b2 = paramas[b2]\n",
    "    \n",
    "    y1 = X.dot(w1) + b1\n",
    "    y1 = sigmoid(y1)\n",
    "    y2 = y1.dot(w2) + b2\n",
    "    y = softmax(y2)\n",
    "    return y\n",
    "\n",
    "# 损失函数\n",
    "def loss(x, t, paramas):\n",
    "    y = net(x, paramas)\n",
    "    return cross_entropy_error(y, t)\n",
    "\n"
   ]
  }
 ],
 "metadata": {
  "kernelspec": {
   "display_name": "Python 3 (ipykernel)",
   "language": "python",
   "name": "python3"
  },
  "language_info": {
   "codemirror_mode": {
    "name": "ipython",
    "version": 3
   },
   "file_extension": ".py",
   "mimetype": "text/x-python",
   "name": "python",
   "nbconvert_exporter": "python",
   "pygments_lexer": "ipython3",
   "version": "3.11.5"
  }
 },
 "nbformat": 4,
 "nbformat_minor": 5
}
