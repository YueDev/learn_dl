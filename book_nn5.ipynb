{
 "cells": [
  {
   "cell_type": "markdown",
   "source": [],
   "metadata": {
    "collapsed": false
   },
   "id": "236bed4c9e432329"
  },
  {
   "cell_type": "markdown",
   "source": [
    "## 用numpy实现了d2l-08"
   ],
   "metadata": {
    "collapsed": false
   },
   "id": "9f8577254bccdb94"
  },
  {
   "cell_type": "code",
   "execution_count": 3,
   "id": "6343dc99",
   "metadata": {
    "ExecuteTime": {
     "end_time": "2023-10-17T02:03:00.323099Z",
     "start_time": "2023-10-17T02:03:00.318430Z"
    }
   },
   "outputs": [],
   "source": [
    "import numpy as np"
   ]
  },
  {
   "cell_type": "code",
   "execution_count": 21,
   "id": "cb85572f",
   "metadata": {
    "ExecuteTime": {
     "end_time": "2023-10-17T02:15:06.485767Z",
     "start_time": "2023-10-17T02:15:06.480122Z"
    }
   },
   "outputs": [],
   "source": [
    "# 生成模拟数据  \n",
    "def synthetic_data(w, num_examples):\n",
    "    X = np.random.randn(num_examples, len(w))\n",
    "    y = X.dot(w)\n",
    "    # 为了使数据更真实，加上一个随机干扰    \n",
    "    y += np.random.normal(0, 0.01, y.shape)\n",
    "    return X, y\n",
    "\n",
    "\n",
    "# w是列向量\n",
    "true_w = np.array([8.0, -6.2]).reshape(-1, 1)\n",
    "features, labels = synthetic_data(true_w, 1000)\n",
    "\n",
    "# 批量样本的生成器 每次调用next(g)，都会得到batch_size个数据\n",
    "def data_iter(batch_size, features, labels):\n",
    "    # 随机下样本索引     \n",
    "    num_examples = len(features)\n",
    "    indices = np.arange(num_examples)\n",
    "    indices = np.random.permutation(indices)\n",
    "    for i in range(0, num_examples, batch_size):\n",
    "        start = i\n",
    "        end = min(i + batch_size, num_examples)\n",
    "        \n",
    "        select_indices = indices[start:end]\n",
    "        yield features[select_indices], labels[select_indices]"
   ]
  },
  {
   "cell_type": "code",
   "execution_count": 20,
   "outputs": [],
   "source": [
    "# 定义网络相关的参数 不定义类了\n",
    "\n",
    "n_w = np.random.normal(0, 0.01, (2, 1))\n",
    "# 学习率\n",
    "lr = 0.1\n",
    "# 每一个batch的大小\n",
    "batch_size = 100\n",
    "# epochs次，即总共学习3次\n",
    "num_epochs = 5\n",
    "\n",
    "\n",
    "# 均方误差\n",
    "def square_loss(y, t):\n",
    "    return (y - t) ** 2 / 2\n",
    "\n",
    "\n",
    "# 推理一次，由于用了均方误差，输出函数用恒等函数即可。\n",
    "def predict(X):\n",
    "    return X.dot(n_w)\n",
    "\n",
    "# 运行网络并计算网络的损失\n",
    "# 由于X t是批量，因此要返回均值作为网络的误差\n",
    "def loss_net(X, t):\n",
    "    y = predict(X)\n",
    "    l = square_loss(y, t)\n",
    "    return l.mean()\n",
    "\n",
    "# 一个通用的算术求梯度，遍历ndarray进行运算\n",
    "def numerical_gradient_common(f, x):\n",
    "    h = 1e-4\n",
    "    grad = np.zeros_like(x)\n",
    "\n",
    "    # 利用迭代器遍历ndarray，这样才能保证拿到索引并且有修改ndarray的权限\n",
    "    it = np.nditer(x, flags=['multi_index'], op_flags=['readwrite'])\n",
    "    for _ in it:  # 也可以这么写while not it.finished:\n",
    "        idx = it.multi_index\n",
    "        temp = x[idx]\n",
    "        x[idx] = temp + h\n",
    "        fx1 = f(x)\n",
    "        x[idx] = temp - h\n",
    "        fx2 = f(x)\n",
    "        grad[idx] = (fx1 - fx2) / (2 * h)\n",
    "        x[idx] = temp\n",
    "    return grad\n"
   ],
   "metadata": {
    "collapsed": false,
    "ExecuteTime": {
     "end_time": "2023-10-17T02:15:04.646504Z",
     "start_time": "2023-10-17T02:15:04.642230Z"
    }
   },
   "id": "7c55023313bb5426"
  },
  {
   "cell_type": "code",
   "execution_count": 19,
   "outputs": [
    {
     "name": "stdout",
     "output_type": "stream",
     "text": [
      "6.541955377757869\n",
      "0.8745662051507856\n",
      "0.11697001743576206\n",
      "0.015657134667008667\n",
      "0.0021433043742800323\n",
      "[[-0.05504555]\n",
      " [ 0.03719021]]\n"
     ]
    }
   ],
   "source": [
    "\n",
    "n_w = np.random.normal(0, 0.01, (2, 1))\n",
    "\n",
    "# 开始学习 一共学习num_epochs轮\n",
    "for i in range(num_epochs):\n",
    "\n",
    "    for X, t in data_iter(batch_size, features, labels):\n",
    "        # 运行网络并计算损失\n",
    "        loss_grad = lambda _ : loss_net(X, t)\n",
    "        # 计算梯度\n",
    "        grad = numerical_gradient_common(loss_grad, n_w)\n",
    "        # 修改参数\n",
    "        n_w -= lr * grad\n",
    "\n",
    "    # 学习完一轮， 计算精度\n",
    "    l = loss_net(features, labels)\n",
    "    print(l)\n",
    "\n",
    "#最后打印n_w 与true_w的差\n",
    "print(n_w - true_w)"
   ],
   "metadata": {
    "collapsed": false,
    "ExecuteTime": {
     "end_time": "2023-10-17T02:15:03.041593Z",
     "start_time": "2023-10-17T02:15:03.032516Z"
    }
   },
   "id": "a271c466d04c0677"
  }
 ],
 "metadata": {
  "kernelspec": {
   "display_name": "Python 3 (ipykernel)",
   "language": "python",
   "name": "python3"
  },
  "language_info": {
   "codemirror_mode": {
    "name": "ipython",
    "version": 3
   },
   "file_extension": ".py",
   "mimetype": "text/x-python",
   "name": "python",
   "nbconvert_exporter": "python",
   "pygments_lexer": "ipython3",
   "version": "3.11.5"
  }
 },
 "nbformat": 4,
 "nbformat_minor": 5
}
