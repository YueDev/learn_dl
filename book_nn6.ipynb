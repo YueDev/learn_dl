{
 "cells": [
  {
   "cell_type": "markdown",
   "id": "bd478bc9",
   "metadata": {},
   "source": [
    "## MINIST的numpy实现"
   ]
  },
  {
   "cell_type": "code",
   "execution_count": 2,
   "id": "163cff3e",
   "metadata": {},
   "outputs": [],
   "source": [
    "import numpy as np\n",
    "from torchvision import datasets\n",
    "from torchvision.transforms import ToTensor"
   ]
  },
  {
   "cell_type": "code",
   "execution_count": 52,
   "id": "7d96ee18",
   "metadata": {},
   "outputs": [],
   "source": [
    "# 利用pytorch下载的数据集，转换成numpy的ndarray\n",
    "def get_data():\n",
    "    training_data = datasets.MNIST(\n",
    "        root=\"data\",\n",
    "        train=True,\n",
    "        download=True,\n",
    "        transform=ToTensor()\n",
    "    )\n",
    "    test_data = datasets.FashionMNIST(\n",
    "        root=\"data\",\n",
    "        train=False,\n",
    "        download=True,\n",
    "        transform=ToTensor()\n",
    "    )\n",
    "    tr = training_data.data / 255\n",
    "    te = training_data.targets\n",
    "    return tr.numpy(), te.numpy()\n",
    "\n",
    "tr, te = get_data()\n",
    "features = tr.reshape(tr.shape[0], -1) # (60000, 784)\n",
    "\n",
    "#labels符合交叉熵误差的形状\n",
    "labels = np.zeros((features.shape[0], 10)) \n",
    "labels[np.arange(labels.shape[0]), te] = 1.0 "
   ]
  },
  {
   "cell_type": "code",
   "execution_count": 75,
   "id": "9b15f4f3",
   "metadata": {},
   "outputs": [],
   "source": [
    "def sigmoid(x):\n",
    "    return 1 / (1 + np.exp(-x))\n",
    "\n",
    "# \n",
    "def softmax(x):\n",
    "    if x.ndim == 1:\n",
    "        x = x.reshape(1, -1)\n",
    "    c = np.max(x, axis = 1, keepdims = True)\n",
    "    exp_a = np.exp(x - c) # 减去c是为了防止溢出\n",
    "    sum_exp_a = np.sum(exp_a, axis = 1, keepdims = True)\n",
    "    y = exp_a / sum_exp_a\n",
    "    return y\n",
    "    \n",
    "     \n",
    "# 损失函数 \n",
    "def cross_entropy_error(self, y, t):\n",
    "    # 由于loge(0)是负无穷大-inf，计算机无法继续之后的运算\n",
    "    # 所以给输入增加一个微小的数，并且不影响结果\n",
    "    delta = 1e-7\n",
    "    # 除以批量\n",
    "    batch_size = y.shape[0]\n",
    "    return -np.sum(t * np.log(y + delta)) / batch_size\n",
    "\n",
    "# 定义网络\n",
    "# 两层网络 第一层是affine层， W1: 748 * 100, B1: 100\n",
    "# 激活函数Sigmoid\n",
    "# 两层网络 第二层是affine层， W2: 100 * 10, B2: 10\n",
    "# 输出函数是softmax 误差是交叉熵误差\n",
    "class SimpleNet:\n",
    "    \n",
    "    def __init__(self, l1_size, l2_size, out_size):\n",
    "        self.params = {\n",
    "            'W1': np.random.rand(l1_size, l2_size), \n",
    "            'B1': np.zeros(l2_size),\n",
    "            'W2': np.random.rand(l2_size, out_size), \n",
    "            'B2': np.zeros(out_size), \n",
    "        }\n",
    "\n",
    "    def predict(self, x):\n",
    "        w1, w2 = self.params['W1'], self.params['W2']\n",
    "        b1, b2 = self.params['B1'], self.params['B2']\n",
    "        \n",
    "        a1 = x.dot(w1) + b1\n",
    "        z1 = sigmoid(a1)\n",
    "        \n",
    "        a2 = z1.dot(w2) + b2\n",
    "        y = softmax(a2)\n",
    "        \n",
    "        return y"
   ]
  }
 ],
 "metadata": {
  "kernelspec": {
   "display_name": "Python 3 (ipykernel)",
   "language": "python",
   "name": "python3"
  },
  "language_info": {
   "codemirror_mode": {
    "name": "ipython",
    "version": 3
   },
   "file_extension": ".py",
   "mimetype": "text/x-python",
   "name": "python",
   "nbconvert_exporter": "python",
   "pygments_lexer": "ipython3",
   "version": "3.11.5"
  }
 },
 "nbformat": 4,
 "nbformat_minor": 5
}
