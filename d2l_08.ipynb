{
 "cells": [
  {
   "cell_type": "markdown",
   "id": "8e8031ce4c2e59c7",
   "metadata": {},
   "source": [
    "## D2L_08：线性回归的实现\n",
    "这是d2l的08课的代码学习\n",
    "[视频地址](https://www.bilibili.com/video/BV1PX4y1g7KC/)"
   ]
  },
  {
   "cell_type": "code",
   "execution_count": 1,
   "id": "00f6e863",
   "metadata": {
    "ExecuteTime": {
     "end_time": "2023-09-28T00:46:16.044068Z",
     "start_time": "2023-09-28T00:46:15.984016Z"
    }
   },
   "outputs": [],
   "source": [
    "import random\n",
    "import torch\n",
    "import matplotlib.pyplot as plt\n",
    "#from d2l import torch as d2l"
   ]
  },
  {
   "cell_type": "markdown",
   "id": "d3022e71b7a34d9d",
   "metadata": {},
   "source": [
    "#### 最简单的实现\n",
    "1. 准备数据"
   ]
  },
  {
   "cell_type": "code",
   "execution_count": 6,
   "id": "5f24458a",
   "metadata": {
    "ExecuteTime": {
     "end_time": "2023-09-28T00:46:16.049077Z",
     "start_time": "2023-09-28T00:46:15.988818Z"
    }
   },
   "outputs": [
    {
     "name": "stdout",
     "output_type": "stream",
     "text": [
      "torch.Size([1000, 2])\n",
      "torch.Size([2, 1])\n",
      "torch.Size([1000, 1])\n"
     ]
    }
   ],
   "source": [
    "# 生成模拟数据  \n",
    "def synthetic_data(w, b, num_examples):\n",
    "    X = torch.normal(0, 1, (num_examples, len(w)))\n",
    "    y = torch.matmul(X, w) + b\n",
    "    print(X.shape)\n",
    "    print(w.shape)\n",
    "    print(y.shape)\n",
    "    # 为了使数据更真实，加上一个随机干扰    \n",
    "    y += torch.normal(0, 0.01, y.shape)\n",
    "    return X, y\n",
    "\n",
    "# true_w应该是列向量 这里为了和下边w一样统一列向量\n",
    "true_w = torch.tensor([2.0, -4.1]).reshape(-1, 1)\n",
    "true_b = 4.2\n",
    "features, labels = synthetic_data(true_w, true_b, 1000)"
   ]
  },
  {
   "cell_type": "code",
   "execution_count": 8,
   "id": "7b34436d",
   "metadata": {
    "ExecuteTime": {
     "end_time": "2023-09-28T00:46:16.068220Z",
     "start_time": "2023-09-28T00:46:15.998642Z"
    }
   },
   "outputs": [
    {
     "data": {
      "image/png": "[encoded data removed]",
      "text/plain": [
       "<Figure size 640x480 with 1 Axes>"
      ]
     },
     "metadata": {},
     "output_type": "display_data"
    }
   ],
   "source": [
    "# y与x是线性关系的，由于w1的绝对值大，w1的线性强一些，所以x1与y的线性关系强一些\n",
    "# 这里用散点图看一下y与x1的线性关系\n",
    "plt.scatter(features[:, 1].numpy(), labels.numpy())\n",
    "plt.show()"
   ]
  },
  {
   "cell_type": "code",
   "execution_count": 9,
   "id": "6ad719f0",
   "metadata": {
    "ExecuteTime": {
     "end_time": "2023-09-28T00:46:16.072990Z",
     "start_time": "2023-09-28T00:46:16.057416Z"
    }
   },
   "outputs": [],
   "source": [
    "# 批量样本的生成器 每次调用next(g)，都会得到batch_size个数据\n",
    "def data_iter(batch_size, features, labels):\n",
    "    # 随机下样本索引     \n",
    "    num_examples = len(features)\n",
    "    indices = list(range(num_examples))\n",
    "    random.shuffle(indices)\n",
    "    for i in range(0, num_examples, batch_size):\n",
    "        start = i\n",
    "        end = min(i + batch_size, num_examples)\n",
    "        select = indices[start:end]\n",
    "        yield features[select], labels[select]\n"
   ]
  },
  {
   "cell_type": "markdown",
   "id": "6c1bec24",
   "metadata": {},
   "source": [
    "2. 定义线性回归：即只有一层的神经网络"
   ]
  },
  {
   "cell_type": "code",
   "execution_count": 11,
   "id": "d51bbd27",
   "metadata": {
    "ExecuteTime": {
     "end_time": "2023-09-28T00:46:16.073256Z",
     "start_time": "2023-09-28T00:46:16.061481Z"
    }
   },
   "outputs": [],
   "source": [
    "\n",
    "# 定义线性回归的模型\n",
    "def linreg(X, w, b):\n",
    "    return torch.matmul(X, w) + b\n",
    "\n",
    "# 损失函数，均方误差，一般来说直接y_hat - y即可  如果行列不同reshape一下就行，\n",
    "def square_loss(y_hat, y):\n",
    "    return (y_hat - y) ** 2 / 2\n",
    "\n",
    "\n",
    "# 优化算法 paramas是[w, b]，求导之后走这里来更新参数\n",
    "def sgd(paramas, lr, batch_size):\n",
    "    with torch.no_grad():\n",
    "        for parama in paramas:\n",
    "            # 因为之前的损失会把所有误差加起来，没有除以batch size 所以在梯度里除了，在损失求和那里除也可以\n",
    "            parama -= lr * parama.grad  / batch_size\n",
    "            parama.grad.zero_()\n",
    "\n"
   ]
  },
  {
   "cell_type": "markdown",
   "id": "ed0f9efbbdcb7ee7",
   "metadata": {},
   "source": [
    "3. 开始训练"
   ]
  },
  {
   "cell_type": "code",
   "execution_count": 16,
   "id": "5c10815d",
   "metadata": {
    "ExecuteTime": {
     "end_time": "2023-09-28T00:46:16.097555Z",
     "start_time": "2023-09-28T00:46:16.068447Z"
    }
   },
   "outputs": [
    {
     "name": "stdout",
     "output_type": "stream",
     "text": [
      "epoch: 0, loss: 0.33237\n",
      "epoch: 1, loss: 0.00591\n",
      "epoch: 2, loss: 0.00015\n",
      "w loss: ftensor([[ 0.0058],\n",
      "        [-0.0081]], grad_fn=<SubBackward0>)\n",
      "b loss: ftensor([0.0102], grad_fn=<RsubBackward1>)\n"
     ]
    }
   ],
   "source": [
    "# 样本形状是(1, 2 )，输出是(1, 1)，因此权重的形状是(2,1)\n",
    "w = torch.normal(0, 0.01, size=(2,1), requires_grad=True)\n",
    "b = torch.zeros(1, requires_grad=True)\n",
    "lr = 0.03 # 学习率\n",
    "num_epochs = 3 # 全部样本学习3次\n",
    "net = linreg\n",
    "loss = square_loss\n",
    "batch_size = 15\n",
    "\n",
    "for epoch in range(num_epochs):\n",
    "    for X, y in data_iter(batch_size, features, labels):\n",
    "        # 运行网络计算预测值 这里y_hat是批量大小的矩阵\n",
    "        y_hat = net(X, w, b)\n",
    "        # 计算损失，这里的损失也是批量大小的\n",
    "        l = square_loss(y_hat, y)\n",
    "        \n",
    "        # 计算梯度  这里如果用l的mean的话，下边sgd里就不需要除以len(l)了\n",
    "        l.sum().backward()\n",
    "        # 根据梯度修正w b\n",
    "        sgd([w, b], lr, len(l))\n",
    "    \n",
    "    #运行完一遍样本，跑一边真实数据算一下损失\n",
    "    with torch.no_grad():\n",
    "        true_l = loss(net(features, w, b), labels)\n",
    "        true_l = true_l.mean()\n",
    "        print(f'epoch: {epoch}, loss: {float(true_l):.5f}')\n",
    "\n",
    "# 最后比较下w b 与我们设定的true w b \n",
    "print(f'w loss: f{true_w - w}')\n",
    "print(f'b loss: f{true_b - b}')"
   ]
  },
  {
   "cell_type": "markdown",
   "id": "9ec3324119df47f7",
   "metadata": {},
   "source": [
    "#### pytorch的框架实现\n",
    "1. 数据加载"
   ]
  },
  {
   "cell_type": "code",
   "execution_count": 17,
   "id": "d7877f1af495b244",
   "metadata": {
    "ExecuteTime": {
     "end_time": "2023-09-28T00:46:16.137979Z",
     "start_time": "2023-09-28T00:46:16.087772Z"
    }
   },
   "outputs": [],
   "source": [
    "from torch.utils import data\n",
    "from torch import nn"
   ]
  },
  {
   "cell_type": "code",
   "execution_count": 18,
   "id": "c41b6e13e62ad4b8",
   "metadata": {
    "ExecuteTime": {
     "end_time": "2023-09-28T00:46:16.138308Z",
     "start_time": "2023-09-28T00:46:16.091489Z"
    }
   },
   "outputs": [],
   "source": [
    "# 利用torch的data进行加载批量数据\n",
    "def data_iter_torch(data_array, batch_size, is_train=True):\n",
    "    dataset = data.TensorDataset(*data_array)\n",
    "    data_loader = data.DataLoader(dataset, batch_size, shuffle=is_train)\n",
    "    # 返回生成器 和上边的data_iter一样\n",
    "    return iter(data_loader)\n"
   ]
  },
  {
   "cell_type": "markdown",
   "id": "8e36e1c1e311cef9",
   "metadata": {},
   "source": [
    "2. 定义网络"
   ]
  },
  {
   "cell_type": "code",
   "execution_count": 20,
   "id": "52ad71f7b51348b8",
   "metadata": {
    "ExecuteTime": {
     "end_time": "2023-09-28T00:46:16.139022Z",
     "start_time": "2023-09-28T00:46:16.095492Z"
    }
   },
   "outputs": [],
   "source": [
    "# 我们用线性网络，输入是2，输出是1，放到一个Sequential里\n",
    "# Sequential大概就是我们神经网络的层\n",
    "net_torch = nn.Sequential(nn.Linear(2, 1))\n",
    "\n",
    "\n",
    "# 误差函数 直接用自带的均方误差\n",
    "loss_torch = nn.MSELoss()\n",
    "# 优化函数 自带的SDG\n",
    "lr = 0.03\n",
    "trainer = torch.optim.SGD(net_torch.parameters(), lr=lr) "
   ]
  },
  {
   "cell_type": "markdown",
   "id": "6cd90c601560ab08",
   "metadata": {},
   "source": [
    "3. 开始训练"
   ]
  },
  {
   "cell_type": "code",
   "execution_count": 28,
   "id": "cd0a7aa7022eb590",
   "metadata": {
    "ExecuteTime": {
     "end_time": "2023-09-28T00:46:16.154566Z",
     "start_time": "2023-09-28T00:46:16.101926Z"
    }
   },
   "outputs": [
    {
     "name": "stdout",
     "output_type": "stream",
     "text": [
      "epoch: f0, loss: 0.00028\n",
      "epoch: f1, loss: 0.00010\n",
      "epoch: f2, loss: 0.00010\n",
      "w loss: ftensor([[-0.0001],\n",
      "        [-0.0002]])\n",
      "b loss: ftensor([0.0003])\n"
     ]
    }
   ],
   "source": [
    "# 初始化网络的参数 w b\n",
    "net_torch[0].weight.data.normal_(0, 0.01)\n",
    "net_torch[0].bias.data.fill_(0)\n",
    "\n",
    "num_epochs = 3 \n",
    "batch_size = 10\n",
    "for epoch in range(num_epochs):\n",
    "    for X, y in data_iter_torch((features, labels), batch_size):\n",
    "        l = loss_torch(net_torch(X), y)\n",
    "        trainer.zero_grad()\n",
    "        l.backward()\n",
    "        trainer.step()\n",
    "    l = loss_torch(net_torch(features), labels)\n",
    "    print(f'epoch: f{epoch}, loss: {l:.5f}')\n",
    "print(f'w loss: f{true_w - net_torch[0].weight.data.reshape (true_w.shape)}')\n",
    "print(f'b loss: f{true_b - net_torch[0].bias.data}')\n"
   ]
  }
 ],
 "metadata": {
  "kernelspec": {
   "display_name": "Python 3 (ipykernel)",
   "language": "python",
   "name": "python3"
  },
  "language_info": {
   "codemirror_mode": {
    "name": "ipython",
    "version": 3
   },
   "file_extension": ".py",
   "mimetype": "text/x-python",
   "name": "python",
   "nbconvert_exporter": "python",
   "pygments_lexer": "ipython3",
   "version": "3.11.5"
  }
 },
 "nbformat": 4,
 "nbformat_minor": 5
}
