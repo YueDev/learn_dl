{
 "cells": [
  {
   "cell_type": "markdown",
   "id": "cdd949483bb4959f",
   "metadata": {},
   "source": [
    "## 求导和梯度"
   ]
  },
  {
   "cell_type": "code",
   "execution_count": 262,
   "id": "47ab69081b5c92c6",
   "metadata": {
    "ExecuteTime": {
     "end_time": "2023-09-26T05:59:09.336395Z",
     "start_time": "2023-09-26T05:59:09.330142Z"
    }
   },
   "outputs": [],
   "source": [
    "import numpy as np"
   ]
  },
  {
   "cell_type": "code",
   "execution_count": 263,
   "id": "aeb4b67c22060109",
   "metadata": {
    "ExecuteTime": {
     "end_time": "2023-09-26T05:59:09.338002Z",
     "start_time": "2023-09-26T05:59:09.334322Z"
    }
   },
   "outputs": [
    {
     "data": {
      "text/plain": "23.000000000052978"
     },
     "execution_count": 263,
     "metadata": {},
     "output_type": "execute_result"
    }
   ],
   "source": [
    "# 函数fx在x点上的导数，这里用中心差分\n",
    "def numerical_diff(f, x):\n",
    "    # 偏差不能太小 计算机由于精度原因会把太小的值当作0\n",
    "    delta_x = 1e-4 \n",
    "    # 由于delta_x不能无限小，因此用中心差分来减少误差\n",
    "    # dfx/dx = (f(x + delta) - f (x - delta)) / 2h\n",
    "    return (f(x + delta_x) - f(x - delta_x)) / (2 * delta_x)\n",
    "\n",
    "\n",
    "f = lambda x: x ** 2 + 3 * x + 100\n",
    "numerical_diff(f, 10)\n"
   ]
  },
  {
   "cell_type": "markdown",
   "id": "448a219852cb4499",
   "metadata": {},
   "source": [
    "标量y对向量求导,即为该向量的梯度， 应该需要转置，即行向量的梯度为列向量\n",
    "\n",
    "但是书上没有转制，大概后续乘法会交换顺序把。\n",
    "\n",
    "这里按照书上来，先不转置"
   ]
  },
  {
   "cell_type": "code",
   "execution_count": 264,
   "id": "779c240377a7b85b",
   "metadata": {
    "ExecuteTime": {
     "end_time": "2023-09-26T05:59:09.372531Z",
     "start_time": "2023-09-26T05:59:09.339660Z"
    }
   },
   "outputs": [
    {
     "data": {
      "text/plain": "array([14.,  6., 10.])"
     },
     "execution_count": 264,
     "metadata": {},
     "output_type": "execute_result"
    }
   ],
   "source": [
    "# x是向量\n",
    "def numerical_gradient(f, x):\n",
    "    delta_x = 1e-4\n",
    "    grad = np.zeros_like(x)\n",
    "    \n",
    "    # 遍历x，分别对每一个参数求导，\n",
    "    # 实际上就是对当前的x[i]进行中心分差计算，其他元素不变\n",
    "    for i in range(x.size):\n",
    "        temp_x_i = x[i]\n",
    "        x[i] = temp_x_i + delta_x\n",
    "        fx1 = f(x)\n",
    "        x[i] = temp_x_i - delta_x\n",
    "        fx2 = f(x)\n",
    "        grad[i] = (fx1 - fx2) / (2 * delta_x)\n",
    "        x[i] = temp_x_i\n",
    "    \n",
    "    return grad\n",
    "\n",
    "# 测试梯度函数\n",
    "f = lambda a: a[0] ** 2 + 2 *a[0] * a[1] + a[2] ** 2\n",
    "numerical_gradient(f, np.array([3.0, 4.0, 5.0]))\n"
   ]
  },
  {
   "cell_type": "markdown",
   "id": "b6cbfde840631fe3",
   "metadata": {},
   "source": [
    "接下来可以写出梯度下降法的函数了:x = x - lr * grad_x  \n",
    "x是向量，其中lr是学习率，grad_x是x的梯度  \n",
    "分解开就是:\n",
    "    x[0] = x[0] - lr * grad_x[0]    \n",
    "    x[1] = x[1] - lr * grad_x[1]\n",
    "    ... \n",
    "    x[n] = x[n] - lr * grad_x[n]  \n",
    "重复一定次数即可，求出fx的极小值/最小值了"
   ]
  },
  {
   "cell_type": "code",
   "execution_count": 265,
   "id": "4d542e5f3c77fc9d",
   "metadata": {
    "ExecuteTime": {
     "end_time": "2023-09-26T05:59:09.374332Z",
     "start_time": "2023-09-26T05:59:09.346994Z"
    }
   },
   "outputs": [
    {
     "data": {
      "text/plain": "array([6.72221872e-09, 4.07407195e-09])"
     },
     "execution_count": 265,
     "metadata": {},
     "output_type": "execute_result"
    }
   ],
   "source": [
    "# 梯度下降求函数的fx极小值的x坐标，lr系数，学习率 step重复次数\n",
    "def gradient_descent(f, init_x, lr = 0.01, step=100):\n",
    "    x = init_x\n",
    "    for i in range(step):\n",
    "        grad = numerical_gradient(f, x)\n",
    "        x = x - lr * grad\n",
    "    return x\n",
    "\n",
    "# 测试下梯度下降\n",
    "fx = lambda x: x[0] ** 2 + x[1] ** 2\n",
    "init_x = np.array([33.0, 20.0])\n",
    "gradient_descent(fx, init_x, lr=0.1)"
   ]
  },
  {
   "cell_type": "markdown",
   "id": "72c47cef",
   "metadata": {},
   "source": [
    "定义一个简单的单层网络类，权重w是一个2 * 3的矩阵，偏置先不设置，激活函数是sofmax\n",
    "\n",
    "可以计算出这个网络的损失函数"
   ]
  },
  {
   "cell_type": "code",
   "execution_count": 369,
   "id": "72117aba",
   "metadata": {
    "ExecuteTime": {
     "end_time": "2023-09-26T06:16:32.357753Z",
     "start_time": "2023-09-26T06:16:32.354024Z"
    }
   },
   "outputs": [],
   "source": [
    "# 激活函数\n",
    "def softmax(x):\n",
    "    c = np.max(x)\n",
    "    exp_a = np.exp(x - c) # 减去c是为了防止溢出\n",
    "    sum_exp_a = np.sum(exp_a)\n",
    "    y = exp_a / sum_exp_a\n",
    "    return y\n",
    "\n",
    "# 损失函数 交叉熵误差\n",
    "def cross_entropy_error(y, t):\n",
    "    # 由于loge(0)是负无穷大-inf，计算机无法继续之后的运算\n",
    "    # 所以给输入增加一个微小的数，并且不影响结果\n",
    "    delta = 1e-7\n",
    "    return -np.sum(t * np.log(y + delta))\n",
    "\n",
    "class SimpleNet:\n",
    "    \n",
    "    # 初始化网络    \n",
    "    def __init__(self):\n",
    "        super().__init__()\n",
    "        self.w = np.random.randn(2, 3)\n",
    "\n",
    "    # 推理一次 即forward    \n",
    "    def predict(self, x):\n",
    "        y = np.dot(x, self.w)\n",
    "        y = softmax(y)\n",
    "        return y\n",
    "\n",
    "    # 网络的损失\n",
    "    def loss(self, x, t):\n",
    "        y = self.predict(x)\n",
    "        return cross_entropy_error(y, t)\n",
    "        "
   ]
  },
  {
   "cell_type": "code",
   "execution_count": 372,
   "outputs": [
    {
     "name": "stdout",
     "output_type": "stream",
     "text": [
      "[[ 0.79417551  1.69591862 -0.02072039]\n",
      " [ 0.82302452  0.50197766  1.4669881 ]]\n",
      "1.9870735326459652\n"
     ]
    }
   ],
   "source": [
    "# 简单测试下网络\n",
    "net = SimpleNet()\n",
    "print(net.w)\n",
    "x = np.random.randn(1, 2)\n",
    "t = np.array([0.5, 0.6, 0.7])\n",
    "d = net.loss(x, t)\n",
    "print(d)"
   ],
   "metadata": {
    "collapsed": false,
    "ExecuteTime": {
     "end_time": "2023-09-26T06:18:34.325493Z",
     "start_time": "2023-09-26T06:18:34.319409Z"
    }
   },
   "id": "b9457c6cd7741770"
  },
  {
   "cell_type": "code",
   "execution_count": null,
   "outputs": [],
   "source": [],
   "metadata": {
    "collapsed": false
   },
   "id": "5e5dbf41b68d36c9"
  }
 ],
 "metadata": {
  "kernelspec": {
   "display_name": "Python 3 (ipykernel)",
   "language": "python",
   "name": "python3"
  },
  "language_info": {
   "codemirror_mode": {
    "name": "ipython",
    "version": 3
   },
   "file_extension": ".py",
   "mimetype": "text/x-python",
   "name": "python",
   "nbconvert_exporter": "python",
   "pygments_lexer": "ipython3",
   "version": "3.11.5"
  }
 },
 "nbformat": 4,
 "nbformat_minor": 5
}
