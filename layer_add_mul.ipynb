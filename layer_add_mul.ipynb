{
 "cells": [
  {
   "cell_type": "markdown",
   "id": "c4489a01",
   "metadata": {},
   "source": [
    "## 计算图的加法和乘法层的实现"
   ]
  },
  {
   "cell_type": "code",
   "execution_count": 3,
   "id": "8884d376",
   "metadata": {},
   "outputs": [],
   "source": [
    "# 计算图的乘法层\n",
    "class MulLayer():\n",
    "    \n",
    "    def __init__(self):\n",
    "        self.x = None\n",
    "        self.y = None\n",
    "    \n",
    "    def forward(self, x, y):\n",
    "        self.x = x\n",
    "        self.y = y\n",
    "        out = self.x * self.y\n",
    "        \n",
    "        return out\n",
    "    \n",
    "    def backward(self, dout):\n",
    "        #乘法的反向是交换x y\n",
    "        dx = dout * self.y\n",
    "        dy = dout * self.x\n",
    "        \n",
    "        return dx, dy\n"
   ]
  },
  {
   "cell_type": "code",
   "execution_count": 2,
   "id": "86347058",
   "metadata": {},
   "outputs": [
    {
     "name": "stdout",
     "output_type": "stream",
     "text": [
      "220.00000000000003\n",
      "2.2 110.00000000000001 200.0\n"
     ]
    }
   ],
   "source": [
    "# 测试乘法层 用书上苹果的案例 \n",
    "# y = x1 * x2 * x3\n",
    "x1 = 100  # 苹果单价\n",
    "x2 = 2    # 苹果个数\n",
    "x3 = 1.1  # 0.1的消费税\n",
    "\n",
    "\n",
    "# 第一层 苹果单价*个数 \n",
    "# 第二层 第一层的输出*税\n",
    "\n",
    "layer1 = MulLayer()\n",
    "layer2 = MulLayer()\n",
    "\n",
    "# forward\n",
    "o1 = layer1.forward(x1, x2)\n",
    "o2 = layer2.forward(o1, x3)\n",
    "print(f'{o2}')\n",
    "# o2就是x1 * x2 * x3\n",
    "\n",
    "# backward\n",
    "d = 1.0\n",
    "do1, d3 = layer2.backward(d)\n",
    "d1, d2 = layer1.backward(do1)\n",
    "print(d1, d2, d3)\n",
    "\n",
    "# d1/d2/d3表示x1/x2/x3增大1的话，输出y增大多少\n"
   ]
  },
  {
   "cell_type": "code",
   "execution_count": 29,
   "id": "b3a270ef",
   "metadata": {},
   "outputs": [],
   "source": [
    "# 计算图的加法层\n",
    "# 加法层比较简单，由于反向是把d直接传递出去，因此不需要存储x和y\n",
    "class AddLayer():\n",
    "    \n",
    "    def __init__(self):\n",
    "        pass\n",
    "    \n",
    "    def forward(self, x, y):\n",
    "        return x + y\n",
    "    \n",
    "    def backward(self, dout):\n",
    "        return dout, dout\n"
   ]
  },
  {
   "cell_type": "code",
   "execution_count": 30,
   "id": "b9b82459",
   "metadata": {},
   "outputs": [
    {
     "name": "stdout",
     "output_type": "stream",
     "text": [
      "715.0000000000001\n",
      "2.2 110.00000000000001 3.3000000000000003 165.0 650\n"
     ]
    }
   ],
   "source": [
    "# 测试加法层, 用书上苹果和橘子的案例\n",
    "# (苹果个数*苹果单价 + 橘子个数*橘子单价)*消费税=最终价\n",
    "\n",
    "x1 = 100  # 苹果单价\n",
    "x2 = 2    # 苹果个数\n",
    "x3 = 150  # 橘子单价\n",
    "x4 = 3    # 橘子个数\n",
    "x5 = 1.1  # 税\n",
    "\n",
    "layer1 = MulLayer() # 计算苹果总价\n",
    "layer2 = MulLayer() # 计算橘子总价\n",
    "layer3 = AddLayer() # 计算苹果+橘子总价\n",
    "layer4 = MulLayer() # 计算税后价格，即最终价格\n",
    "\n",
    "# forward 计算总价\n",
    "o1 = layer1.forward(x1, x2)\n",
    "o2 = layer2.forward(x3, x4)\n",
    "o3 = layer3.forward(o1, o2)\n",
    "o4 = layer4.forward(o3, x5)\n",
    "print(o4)\n",
    "\n",
    "# backward 计算x1-x5每提升1，对输出的影响\n",
    "d = 1\n",
    "do4, d5 = layer4.backward(d)\n",
    "do31, do32 = layer3.backward(do4)\n",
    "d1, d2 = layer1.backward(do31)\n",
    "d3, d4 = layer2.backward(do32)\n",
    "print(d1, d2, d3, d4, d5)\n",
    "\n",
    "# 这里的5个输出应该对照书里的计算图(书138页/pdf163页)上的反向数值一致\n"
   ]
  }
 ],
 "metadata": {
  "kernelspec": {
   "display_name": "Python 3 (ipykernel)",
   "language": "python",
   "name": "python3"
  },
  "language_info": {
   "codemirror_mode": {
    "name": "ipython",
    "version": 3
   },
   "file_extension": ".py",
   "mimetype": "text/x-python",
   "name": "python",
   "nbconvert_exporter": "python",
   "pygments_lexer": "ipython3",
   "version": "3.11.5"
  }
 },
 "nbformat": 4,
 "nbformat_minor": 5
}
