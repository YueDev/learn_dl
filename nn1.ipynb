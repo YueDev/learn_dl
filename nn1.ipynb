{
 "cells": [
  {
   "cell_type": "markdown",
   "source": [
    "# numpy写的单层的神经网络"
   ],
   "metadata": {
    "collapsed": false
   },
   "id": "d8561c10a7e3d3c7"
  },
  {
   "cell_type": "code",
   "execution_count": 1,
   "id": "1b4ff24b",
   "metadata": {
    "ExecuteTime": {
     "end_time": "2023-09-23T02:13:05.437183Z",
     "start_time": "2023-09-23T02:13:05.267357Z"
    }
   },
   "outputs": [],
   "source": [
    "import numpy as np"
   ]
  },
  {
   "cell_type": "markdown",
   "source": [
    "两个激活函数sigmoid和relu"
   ],
   "metadata": {
    "collapsed": false
   },
   "id": "47992e5e9e16f3b"
  },
  {
   "cell_type": "code",
   "execution_count": 2,
   "outputs": [],
   "source": [
    "def sigmoid(x):\n",
    "    return 1 / (1 + np.exp(-x))\n",
    "\n",
    "def relu(x):\n",
    "    return np.maximum(0, x)"
   ],
   "metadata": {
    "collapsed": false,
    "ExecuteTime": {
     "end_time": "2023-09-23T02:13:05.437668Z",
     "start_time": "2023-09-23T02:13:05.416383Z"
    }
   },
   "id": "951c27fdb32320f8"
  },
  {
   "cell_type": "markdown",
   "source": [
    "简单的用numpy模拟下单层的神经网络（感知机）\n",
    "4个输出x 3个输出y w是权重 b是偏差"
   ],
   "metadata": {
    "collapsed": false
   },
   "id": "5bf9b07f25b7d1ed"
  },
  {
   "cell_type": "code",
   "execution_count": 3,
   "outputs": [
    {
     "data": {
      "text/plain": "(array([[ 0.97,  0.63, -0.32, -0.44]]),\n array([[0.45135735, 0.50489195, 0.65464379]]))"
     },
     "execution_count": 3,
     "metadata": {},
     "output_type": "execute_result"
    }
   ],
   "source": [
    "# 这里x y我是按照列向量写的 y=w.x + b 书上是按照行向量写的 y = x.w + b\n",
    "# w = np.random.rand(12).reshape(3, 4)\n",
    "# x = np.random.rand(4).reshape(4, 1)\n",
    "# b = np.random.rand(3).reshape(3, 1)\n",
    "# y = relu((w.dot(x) + b))\n",
    "\n",
    "# 行向量版本\n",
    "x = np.random.randint(-100, 100, size=(1, 4)) / 100\n",
    "w = np.random.rand(12).reshape(4, 3)\n",
    "b =  - np.random.rand(3).reshape(1, 3) * 0.4\n",
    "y = sigmoid(x.dot(w) + b)\n",
    "x, y"
   ],
   "metadata": {
    "collapsed": false,
    "ExecuteTime": {
     "end_time": "2023-09-23T02:13:05.437989Z",
     "start_time": "2023-09-23T02:13:05.416536Z"
    }
   },
   "id": "88b8bc7fc70132d2"
  }
 ],
 "metadata": {
  "celltoolbar": "无",
  "kernelspec": {
   "display_name": "Python 3 (ipykernel)",
   "language": "python",
   "name": "python3"
  },
  "language_info": {
   "codemirror_mode": {
    "name": "ipython",
    "version": 3
   },
   "file_extension": ".py",
   "mimetype": "text/x-python",
   "name": "python",
   "nbconvert_exporter": "python",
   "pygments_lexer": "ipython3",
   "version": "3.11.5"
  }
 },
 "nbformat": 4,
 "nbformat_minor": 5
}
